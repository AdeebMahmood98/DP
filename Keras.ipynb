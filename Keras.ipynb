{
 "cells": [
  {
   "cell_type": "markdown",
   "id": "6a419005",
   "metadata": {},
   "source": [
    "# Setting Up MNIST"
   ]
  },
  {
   "cell_type": "code",
   "execution_count": 1,
   "id": "ed8a9b08",
   "metadata": {},
   "outputs": [],
   "source": [
    "from __future__ import absolute_import, division, print_function, unicode_literals\n",
    "\n",
    "import tensorflow as tf\n",
    "\n",
    "from tensorflow.keras.layers import Dense, Flatten, Conv2D\n",
    "from tensorflow.keras import Model\n",
    "from tensorflow.keras.preprocessing.image import ImageDataGenerator\n",
    "\n",
    "import matplotlib.pyplot as plt\n",
    "\n",
    "import numpy as np"
   ]
  },
  {
   "cell_type": "code",
   "execution_count": 2,
   "id": "a3234d25",
   "metadata": {},
   "outputs": [],
   "source": [
    "mnist = tf.keras.datasets.mnist\n",
    "(x_train, y_train), (x_test, y_test) = mnist.load_data()\n",
    "x_train = x_train[..., tf.newaxis].astype(np.float32)\n",
    "x_test = x_test[..., tf.newaxis].astype(np.float32)\n",
    "\n",
    "img_rows = x_train.shape[1]\n",
    "img_cols = x_train.shape[2]"
   ]
  },
  {
   "cell_type": "code",
   "execution_count": 80,
   "id": "702e43f0",
   "metadata": {},
   "outputs": [
    {
     "name": "stdout",
     "output_type": "stream",
     "text": [
      "(60000, 28, 28, 1)\n",
      "(10000, 28, 28, 1)\n"
     ]
    }
   ],
   "source": [
    "print(x_train.shape)\n",
    "print(x_test.shape)"
   ]
  },
  {
   "cell_type": "code",
   "execution_count": 4,
   "id": "a82a3bf2",
   "metadata": {},
   "outputs": [],
   "source": [
    "def plotImages(images_arr):\n",
    "    fig, axes = plt.subplots(1, 5, figsize=(15, 15))\n",
    "    axes = axes.flatten()\n",
    "    for img, ax in zip( images_arr, axes):\n",
    "        ax.imshow(np.squeeze(img))\n",
    "        ax.axis('off')\n",
    "    plt.tight_layout()\n",
    "    plt.show()"
   ]
  },
  {
   "cell_type": "code",
   "execution_count": 5,
   "id": "2e08da53",
   "metadata": {
    "scrolled": true
   },
   "outputs": [
    {
     "data": {
      "image/png": "[encoded data removed]",
      "text/plain": [
       "<Figure size 1080x1080 with 5 Axes>"
      ]
     },
     "metadata": {
      "needs_background": "light"
     },
     "output_type": "display_data"
    }
   ],
   "source": [
    "image_generator = ImageDataGenerator(rescale=1./255) \n",
    "data_gen = image_generator.flow(x_train, y_train, batch_size=32) \n",
    "sample_images, sample_labels = next(data_gen)\n",
    "plotImages(sample_images[:5])"
   ]
  },
  {
   "cell_type": "code",
   "execution_count": 93,
   "id": "9aa6d84e",
   "metadata": {},
   "outputs": [
    {
     "name": "stdout",
     "output_type": "stream",
     "text": [
      "(10000,)\n"
     ]
    }
   ],
   "source": [
    "print(y_test.shape)"
   ]
  },
  {
   "cell_type": "code",
   "execution_count": 8,
   "id": "775ded99",
   "metadata": {},
   "outputs": [
    {
     "data": {
      "image/png": "[encoded data removed]",
      "text/plain": [
       "<Figure size 432x288 with 2 Axes>"
      ]
     },
     "metadata": {
      "needs_background": "light"
     },
     "output_type": "display_data"
    }
   ],
   "source": [
    "plt.figure()\n",
    "plt.imshow(sample_images[5])\n",
    "plt.colorbar()\n",
    "plt.grid(False)\n",
    "plt.show()"
   ]
  },
  {
   "cell_type": "code",
   "execution_count": 94,
   "id": "ae7ecffe",
   "metadata": {},
   "outputs": [],
   "source": [
    "model = tf.keras.Sequential([\n",
    "    tf.keras.layers.Flatten(input_shape=(28, 28)),\n",
    "    tf.keras.layers.Dense(128, activation='relu'),\n",
    "    tf.keras.layers.Dense(10)\n",
    "])"
   ]
  },
  {
   "cell_type": "code",
   "execution_count": 95,
   "id": "b965bda6",
   "metadata": {},
   "outputs": [],
   "source": [
    "model.compile(optimizer='adam',\n",
    "              loss=tf.keras.losses.SparseCategoricalCrossentropy(from_logits=True),\n",
    "              metrics=['accuracy'])"
   ]
  },
  {
   "cell_type": "code",
   "execution_count": 96,
   "id": "9d2f6f65",
   "metadata": {
    "scrolled": false
   },
   "outputs": [
    {
     "name": "stdout",
     "output_type": "stream",
     "text": [
      "Epoch 1/10\n",
      "1875/1875 - 2s - loss: 2.8240 - accuracy: 0.8638 - val_loss: 0.5395 - val_accuracy: 0.8808 - 2s/epoch - 1ms/step\n",
      "Epoch 2/10\n",
      "1875/1875 - 2s - loss: 0.3901 - accuracy: 0.9100 - val_loss: 0.3683 - val_accuracy: 0.9165 - 2s/epoch - 1ms/step\n",
      "Epoch 3/10\n",
      "1875/1875 - 2s - loss: 0.2833 - accuracy: 0.9290 - val_loss: 0.3230 - val_accuracy: 0.9245 - 2s/epoch - 1ms/step\n",
      "Epoch 4/10\n",
      "1875/1875 - 2s - loss: 0.2547 - accuracy: 0.9362 - val_loss: 0.2709 - val_accuracy: 0.9380 - 2s/epoch - 1ms/step\n",
      "Epoch 5/10\n",
      "1875/1875 - 2s - loss: 0.2282 - accuracy: 0.9421 - val_loss: 0.2380 - val_accuracy: 0.9444 - 2s/epoch - 1ms/step\n",
      "Epoch 6/10\n",
      "1875/1875 - 2s - loss: 0.2138 - accuracy: 0.9476 - val_loss: 0.2646 - val_accuracy: 0.9407 - 2s/epoch - 1ms/step\n",
      "Epoch 7/10\n",
      "1875/1875 - 2s - loss: 0.1999 - accuracy: 0.9505 - val_loss: 0.2696 - val_accuracy: 0.9470 - 2s/epoch - 1ms/step\n",
      "Epoch 8/10\n",
      "1875/1875 - 2s - loss: 0.1941 - accuracy: 0.9511 - val_loss: 0.2398 - val_accuracy: 0.9481 - 2s/epoch - 1ms/step\n",
      "Epoch 9/10\n",
      "1875/1875 - 2s - loss: 0.1888 - accuracy: 0.9528 - val_loss: 0.3184 - val_accuracy: 0.9282 - 2s/epoch - 1ms/step\n",
      "Epoch 10/10\n",
      "1875/1875 - 2s - loss: 0.1764 - accuracy: 0.9573 - val_loss: 0.2615 - val_accuracy: 0.9481 - 2s/epoch - 1ms/step\n"
     ]
    }
   ],
   "source": [
    "history = model.fit(x=x_train, y=y_train, epochs=10, verbose=2, validation_data=(x_test, y_test))"
   ]
  },
  {
   "cell_type": "code",
   "execution_count": 64,
   "id": "87600f6a",
   "metadata": {
    "scrolled": true
   },
   "outputs": [
    {
     "data": {
      "text/plain": [
       "{'loss': [0.14171995222568512,\n",
       "  0.14664176106452942,\n",
       "  0.13742737472057343,\n",
       "  0.13164010643959045,\n",
       "  0.13892878592014313,\n",
       "  0.1486217975616455,\n",
       "  0.1399618536233902,\n",
       "  0.14550787210464478,\n",
       "  0.1303291618824005,\n",
       "  0.1263008862733841],\n",
       " 'accuracy': [0.9696833491325378,\n",
       "  0.9691833257675171,\n",
       "  0.9702833294868469,\n",
       "  0.9707833528518677,\n",
       "  0.9711999893188477,\n",
       "  0.9696666598320007,\n",
       "  0.9711666703224182,\n",
       "  0.9710166454315186,\n",
       "  0.9729499816894531,\n",
       "  0.9729166626930237],\n",
       " 'val_loss': [0.5415116548538208,\n",
       "  0.4764206111431122,\n",
       "  0.472260981798172,\n",
       "  0.5237268805503845,\n",
       "  0.621306300163269,\n",
       "  0.6121989488601685,\n",
       "  0.5914267301559448,\n",
       "  0.598502516746521,\n",
       "  0.5843076109886169,\n",
       "  0.6219227910041809],\n",
       " 'val_accuracy': [0.9524999856948853,\n",
       "  0.949999988079071,\n",
       "  0.9527000188827515,\n",
       "  0.9526000022888184,\n",
       "  0.9474999904632568,\n",
       "  0.9541000127792358,\n",
       "  0.9501000046730042,\n",
       "  0.9510999917984009,\n",
       "  0.9577000141143799,\n",
       "  0.9538999795913696]}"
      ]
     },
     "execution_count": 64,
     "metadata": {},
     "output_type": "execute_result"
    }
   ],
   "source": [
    "history.history"
   ]
  },
  {
   "cell_type": "code",
   "execution_count": 65,
   "id": "1c0b8a08",
   "metadata": {
    "scrolled": true
   },
   "outputs": [
    {
     "name": "stdout",
     "output_type": "stream",
     "text": [
      "313/313 - 0s - loss: 0.6219 - accuracy: 0.9539 - 264ms/epoch - 843us/step\n"
     ]
    },
    {
     "data": {
      "text/plain": [
       "[0.6219227910041809, 0.9538999795913696]"
      ]
     },
     "execution_count": 65,
     "metadata": {},
     "output_type": "execute_result"
    }
   ],
   "source": [
    "model.evaluate(x_test,  y_test, verbose=2)"
   ]
  },
  {
   "cell_type": "code",
   "execution_count": 89,
   "id": "e70fe024",
   "metadata": {},
   "outputs": [],
   "source": [
    "model2 = tf.keras.Sequential([\n",
    "    tf.keras.layers.Conv2D(32, 3, activation = 'relu'),\n",
    "    tf.keras.layers.Flatten(input_shape=(28, 28)),\n",
    "    tf.keras.layers.Dense(128, activation='relu'),\n",
    "    tf.keras.layers.Dense(10)\n",
    "])"
   ]
  },
  {
   "cell_type": "code",
   "execution_count": 31,
   "id": "860ed3a7",
   "metadata": {},
   "outputs": [],
   "source": [
    "model2.compile(optimizer='sgd',\n",
    "              loss=tf.keras.losses.SparseCategoricalCrossentropy(from_logits=True),\n",
    "              metrics=['accuracy'])"
   ]
  },
  {
   "cell_type": "code",
   "execution_count": 32,
   "id": "6d53017f",
   "metadata": {
    "scrolled": true
   },
   "outputs": [
    {
     "name": "stdout",
     "output_type": "stream",
     "text": [
      "Epoch 1/5\n",
      "1875/1875 [==============================] - 33s 18ms/step - loss: 2.8456 - accuracy: 0.1119\n",
      "Epoch 2/5\n",
      "1875/1875 [==============================] - 33s 18ms/step - loss: 2.3011 - accuracy: 0.1121\n",
      "Epoch 3/5\n",
      "1875/1875 [==============================] - 33s 17ms/step - loss: 2.3010 - accuracy: 0.1120\n",
      "Epoch 4/5\n",
      "1875/1875 [==============================] - 33s 17ms/step - loss: 2.3008 - accuracy: 0.1120\n",
      "Epoch 5/5\n",
      "1875/1875 [==============================] - 33s 17ms/step - loss: 2.3005 - accuracy: 0.1118\n"
     ]
    },
    {
     "data": {
      "text/plain": [
       "<keras.callbacks.History at 0x11918f32d30>"
      ]
     },
     "execution_count": 32,
     "metadata": {},
     "output_type": "execute_result"
    }
   ],
   "source": [
    "model2.fit(x=x_train, y=y_train, epochs=10, verbose=2, validation_data=(x_test, y_test))"
   ]
  },
  {
   "cell_type": "markdown",
   "id": "cb57d607",
   "metadata": {},
   "source": [
    "# Incorporating TensorFlow Private"
   ]
  },
  {
   "cell_type": "code",
   "execution_count": 3,
   "id": "7131d325",
   "metadata": {
    "scrolled": true
   },
   "outputs": [
    {
     "name": "stdout",
     "output_type": "stream",
     "text": [
      "Requirement already satisfied: tensorflow-privacy in c:\\users\\am4111\\anaconda3\\lib\\site-packages (0.7.3)\n",
      "Requirement already satisfied: tensorflow-probability>=0.13.0 in c:\\users\\am4111\\anaconda3\\lib\\site-packages (from tensorflow-privacy) (0.15.0)\n",
      "Requirement already satisfied: mpmath in c:\\users\\am4111\\anaconda3\\lib\\site-packages (from tensorflow-privacy) (1.2.1)\n",
      "Requirement already satisfied: dm-tree~=0.1.1 in c:\\users\\am4111\\anaconda3\\lib\\site-packages (from tensorflow-privacy) (0.1.6)\n",
      "Requirement already satisfied: tensorflow-datasets>=4.4.0 in c:\\users\\am4111\\anaconda3\\lib\\site-packages (from tensorflow-privacy) (4.4.0)\n",
      "Requirement already satisfied: attrs>=21.2.0 in c:\\users\\am4111\\anaconda3\\lib\\site-packages (from tensorflow-privacy) (21.2.0)\n",
      "Requirement already satisfied: scipy>=0.17 in c:\\users\\am4111\\appdata\\roaming\\python\\python38\\site-packages (from tensorflow-privacy) (1.4.1)\n",
      "Requirement already satisfied: tensorflow-estimator>=2.3.0 in c:\\users\\am4111\\appdata\\roaming\\python\\python38\\site-packages (from tensorflow-privacy) (2.7.0)\n",
      "Requirement already satisfied: six>=1.12.0 in c:\\users\\am4111\\anaconda3\\lib\\site-packages (from dm-tree~=0.1.1->tensorflow-privacy) (1.15.0)\n",
      "Requirement already satisfied: numpy>=1.13.3 in c:\\users\\am4111\\anaconda3\\lib\\site-packages (from scipy>=0.17->tensorflow-privacy) (1.18.5)\n",
      "Requirement already satisfied: future in c:\\users\\am4111\\anaconda3\\lib\\site-packages (from tensorflow-datasets>=4.4.0->tensorflow-privacy) (0.18.2)\n",
      "Requirement already satisfied: promise in c:\\users\\am4111\\anaconda3\\lib\\site-packages (from tensorflow-datasets>=4.4.0->tensorflow-privacy) (2.3)\n",
      "Requirement already satisfied: tqdm in c:\\users\\am4111\\anaconda3\\lib\\site-packages (from tensorflow-datasets>=4.4.0->tensorflow-privacy) (4.59.0)\n",
      "Requirement already satisfied: protobuf>=3.12.2 in c:\\users\\am4111\\anaconda3\\lib\\site-packages (from tensorflow-datasets>=4.4.0->tensorflow-privacy) (3.19.1)\n",
      "Requirement already satisfied: requests>=2.19.0 in c:\\users\\am4111\\anaconda3\\lib\\site-packages (from tensorflow-datasets>=4.4.0->tensorflow-privacy) (2.25.1)\n",
      "Requirement already satisfied: tensorflow-metadata in c:\\users\\am4111\\anaconda3\\lib\\site-packages (from tensorflow-datasets>=4.4.0->tensorflow-privacy) (1.4.0)\n",
      "Requirement already satisfied: termcolor in c:\\users\\am4111\\anaconda3\\lib\\site-packages (from tensorflow-datasets>=4.4.0->tensorflow-privacy) (1.1.0)\n",
      "Requirement already satisfied: dill in c:\\users\\am4111\\anaconda3\\lib\\site-packages (from tensorflow-datasets>=4.4.0->tensorflow-privacy) (0.3.4)\n",
      "Requirement already satisfied: importlib-resources in c:\\users\\am4111\\anaconda3\\lib\\site-packages (from tensorflow-datasets>=4.4.0->tensorflow-privacy) (5.2.2)\n",
      "Requirement already satisfied: absl-py in c:\\users\\am4111\\anaconda3\\lib\\site-packages (from tensorflow-datasets>=4.4.0->tensorflow-privacy) (0.12.0)\n",
      "Requirement already satisfied: chardet<5,>=3.0.2 in c:\\users\\am4111\\anaconda3\\lib\\site-packages (from requests>=2.19.0->tensorflow-datasets>=4.4.0->tensorflow-privacy) (4.0.0)\n",
      "Requirement already satisfied: urllib3<1.27,>=1.21.1 in c:\\users\\am4111\\anaconda3\\lib\\site-packages (from requests>=2.19.0->tensorflow-datasets>=4.4.0->tensorflow-privacy) (1.26.4)\n",
      "Requirement already satisfied: idna<3,>=2.5 in c:\\users\\am4111\\anaconda3\\lib\\site-packages (from requests>=2.19.0->tensorflow-datasets>=4.4.0->tensorflow-privacy) (2.10)\n",
      "Requirement already satisfied: certifi>=2017.4.17 in c:\\users\\am4111\\anaconda3\\lib\\site-packages (from requests>=2.19.0->tensorflow-datasets>=4.4.0->tensorflow-privacy) (2020.12.5)\n",
      "Requirement already satisfied: cloudpickle>=1.3 in c:\\users\\am4111\\anaconda3\\lib\\site-packages (from tensorflow-probability>=0.13.0->tensorflow-privacy) (1.6.0)\n",
      "Requirement already satisfied: decorator in c:\\users\\am4111\\anaconda3\\lib\\site-packages (from tensorflow-probability>=0.13.0->tensorflow-privacy) (5.0.6)\n",
      "Requirement already satisfied: gast>=0.3.2 in c:\\users\\am4111\\appdata\\roaming\\python\\python38\\site-packages (from tensorflow-probability>=0.13.0->tensorflow-privacy) (0.3.3)\n",
      "Requirement already satisfied: zipp>=3.1.0 in c:\\users\\am4111\\anaconda3\\lib\\site-packages (from importlib-resources->tensorflow-datasets>=4.4.0->tensorflow-privacy) (3.4.1)\n",
      "Requirement already satisfied: googleapis-common-protos<2,>=1.52.0 in c:\\users\\am4111\\anaconda3\\lib\\site-packages (from tensorflow-metadata->tensorflow-datasets>=4.4.0->tensorflow-privacy) (1.53.0)\n",
      "Note: you may need to restart the kernel to use updated packages.\n"
     ]
    }
   ],
   "source": [
    "pip install tensorflow-privacy"
   ]
  },
  {
   "cell_type": "code",
   "execution_count": 4,
   "id": "cc5dd44e",
   "metadata": {},
   "outputs": [],
   "source": [
    "import tensorflow_privacy\n",
    "from tensorflow_privacy.privacy.analysis import compute_dp_sgd_privacy"
   ]
  },
  {
   "cell_type": "code",
   "execution_count": 12,
   "id": "3429c35b",
   "metadata": {},
   "outputs": [],
   "source": [
    "epochs = 5\n",
    "batch_size = 32\n",
    "l2_norm_clip = 1.5\n",
    "noise_multiplier = 1.3\n",
    "num_microbatches = 32\n",
    "learning_rate = 0.05\n",
    "\n",
    "if batch_size % num_microbatches != 0:\n",
    "    raise ValueError('Batch size should be an integer multiple of the number of microbatches')"
   ]
  },
  {
   "cell_type": "code",
   "execution_count": 13,
   "id": "bcd31224",
   "metadata": {},
   "outputs": [],
   "source": [
    "model = tf.keras.Sequential([ #Using this model as it is quicker to train on.\n",
    "    tf.keras.layers.Flatten(input_shape=(28, 28)),\n",
    "    tf.keras.layers.Dense(128, activation='relu'),\n",
    "    tf.keras.layers.Dense(10)\n",
    "])  "
   ]
  },
  {
   "cell_type": "code",
   "execution_count": 14,
   "id": "f4c6abd8",
   "metadata": {},
   "outputs": [],
   "source": [
    "optimizer = tensorflow_privacy.DPKerasSGDOptimizer(\n",
    "    l2_norm_clip=l2_norm_clip,\n",
    "    noise_multiplier=noise_multiplier,\n",
    "    num_microbatches=num_microbatches,\n",
    "    learning_rate=learning_rate)\n",
    "\n",
    "loss = tf.keras.losses.SparseCategoricalCrossentropy(\n",
    "    from_logits=True, reduction=tf.losses.Reduction.NONE)"
   ]
  },
  {
   "cell_type": "code",
   "execution_count": 15,
   "id": "0d983553",
   "metadata": {
    "scrolled": true
   },
   "outputs": [
    {
     "name": "stdout",
     "output_type": "stream",
     "text": [
      "Epoch 1/5\n",
      "1875/1875 [==============================] - 39s 21ms/step - loss: 54.2503 - accuracy: 0.5798 - val_loss: 64.0245 - val_accuracy: 0.6434\n",
      "Epoch 2/5\n",
      "1875/1875 [==============================] - 36s 19ms/step - loss: 77.9673 - accuracy: 0.6732 - val_loss: 85.5605 - val_accuracy: 0.6949\n",
      "Epoch 3/5\n",
      "1875/1875 [==============================] - 35s 19ms/step - loss: 104.9600 - accuracy: 0.6895 - val_loss: 110.0060 - val_accuracy: 0.7082\n",
      "Epoch 4/5\n",
      "1875/1875 [==============================] - 36s 19ms/step - loss: 129.3180 - accuracy: 0.7055 - val_loss: 125.8801 - val_accuracy: 0.7402\n",
      "Epoch 5/5\n",
      "1875/1875 [==============================] - 36s 19ms/step - loss: 146.4839 - accuracy: 0.7189 - val_loss: 155.4828 - val_accuracy: 0.7258\n"
     ]
    }
   ],
   "source": [
    "model.compile(optimizer=optimizer, loss=loss, metrics=['accuracy'])\n",
    "\n",
    "history = model.fit(x_train, y_train,\n",
    "          epochs=epochs,\n",
    "          validation_data=(x_test, y_test),\n",
    "          batch_size=batch_size,\n",
    "          verbose=1)"
   ]
  },
  {
   "cell_type": "code",
   "execution_count": 18,
   "id": "326f987d",
   "metadata": {},
   "outputs": [
    {
     "name": "stdout",
     "output_type": "stream",
     "text": [
      "DP-SGD with sampling rate = 1% and noise_multiplier = 4 iterated over 40000 steps satisfies differential privacy with eps = 2.21 and delta = 1e-05.\n",
      "The optimal RDP order is 9.0.\n"
     ]
    },
    {
     "data": {
      "text/plain": [
       "(2.212905513368701, 9.0)"
      ]
     },
     "execution_count": 18,
     "metadata": {},
     "output_type": "execute_result"
    }
   ],
   "source": [
    "compute_dp_sgd_privacy.compute_dp_sgd_privacy(n=x_train.shape[0],\n",
    "                                              batch_size=600,\n",
    "                                              noise_multiplier=4,\n",
    "                                              epochs=400,\n",
    "                                              delta=1e-5)     #This is the moments accountant"
   ]
  },
  {
   "cell_type": "code",
   "execution_count": null,
   "id": "0d8fc7b4",
   "metadata": {},
   "outputs": [],
   "source": [
    "history.history"
   ]
  },
  {
   "cell_type": "code",
   "execution_count": null,
   "id": "7bcdb852",
   "metadata": {},
   "outputs": [],
   "source": []
  },
  {
   "cell_type": "code",
   "execution_count": null,
   "id": "428f4607",
   "metadata": {},
   "outputs": [],
   "source": [
    "compute_dp_sgd_privacy.compute_dp_sgd_privacy(n=train_data.shape[0],\n",
    "                                              batch_size=batch_size,\n",
    "                                              noise_multiplier=noise_multiplier,\n",
    "                                              epochs=400,\n",
    "                                              delta=1e-5)"
   ]
  },
  {
   "cell_type": "code",
   "execution_count": null,
   "id": "3b44385a",
   "metadata": {},
   "outputs": [],
   "source": []
  },
  {
   "cell_type": "code",
   "execution_count": null,
   "id": "88b78925",
   "metadata": {},
   "outputs": [],
   "source": []
  },
  {
   "cell_type": "code",
   "execution_count": null,
   "id": "3a9cc3a7",
   "metadata": {},
   "outputs": [],
   "source": []
  },
  {
   "cell_type": "code",
   "execution_count": 6,
   "id": "0cd9a3d8",
   "metadata": {},
   "outputs": [],
   "source": [
    "model2 = tf.keras.Sequential([\n",
    "    tf.keras.layers.Conv2D(32, 3, activation = 'relu'),\n",
    "    tf.keras.layers.Flatten(input_shape=(28, 28)),\n",
    "    tf.keras.layers.Dense(128, activation='relu'),\n",
    "    tf.keras.layers.Dense(10)\n",
    "])"
   ]
  },
  {
   "cell_type": "code",
   "execution_count": 7,
   "id": "c76a41a1",
   "metadata": {},
   "outputs": [],
   "source": [
    "optimizer = tensorflow_privacy.DPKerasSGDOptimizer(\n",
    "    l2_norm_clip=l2_norm_clip,\n",
    "    noise_multiplier=noise_multiplier,\n",
    "    num_microbatches=num_microbatches,\n",
    "    learning_rate=learning_rate)\n",
    "\n",
    "loss = tf.keras.losses.SparseCategoricalCrossentropy(\n",
    "    from_logits=True, reduction=tf.losses.Reduction.NONE)"
   ]
  },
  {
   "cell_type": "code",
   "execution_count": 9,
   "id": "1eaceed0",
   "metadata": {},
   "outputs": [
    {
     "name": "stdout",
     "output_type": "stream",
     "text": [
      "Epoch 1/10\n",
      "  11/1875 [..............................] - ETA: 18:07 - loss: 22.0723 - accuracy: 0.2244"
     ]
    },
    {
     "ename": "KeyboardInterrupt",
     "evalue": "",
     "output_type": "error",
     "traceback": [
      "\u001b[1;31m---------------------------------------------------------------------------\u001b[0m",
      "\u001b[1;31mKeyboardInterrupt\u001b[0m                         Traceback (most recent call last)",
      "\u001b[1;32m<ipython-input-9-1faa7aeeda67>\u001b[0m in \u001b[0;36m<module>\u001b[1;34m\u001b[0m\n\u001b[0;32m      1\u001b[0m \u001b[0mmodel2\u001b[0m\u001b[1;33m.\u001b[0m\u001b[0mcompile\u001b[0m\u001b[1;33m(\u001b[0m\u001b[0moptimizer\u001b[0m\u001b[1;33m=\u001b[0m\u001b[0moptimizer\u001b[0m\u001b[1;33m,\u001b[0m \u001b[0mloss\u001b[0m\u001b[1;33m=\u001b[0m\u001b[0mloss\u001b[0m\u001b[1;33m,\u001b[0m \u001b[0mmetrics\u001b[0m\u001b[1;33m=\u001b[0m\u001b[1;33m[\u001b[0m\u001b[1;34m'accuracy'\u001b[0m\u001b[1;33m]\u001b[0m\u001b[1;33m)\u001b[0m\u001b[1;33m\u001b[0m\u001b[1;33m\u001b[0m\u001b[0m\n\u001b[0;32m      2\u001b[0m \u001b[1;33m\u001b[0m\u001b[0m\n\u001b[1;32m----> 3\u001b[1;33m history2 = model2.fit(x_train, y_train,\n\u001b[0m\u001b[0;32m      4\u001b[0m           \u001b[0mepochs\u001b[0m\u001b[1;33m=\u001b[0m\u001b[0mepochs\u001b[0m\u001b[1;33m,\u001b[0m\u001b[1;33m\u001b[0m\u001b[1;33m\u001b[0m\u001b[0m\n\u001b[0;32m      5\u001b[0m           \u001b[0mvalidation_data\u001b[0m\u001b[1;33m=\u001b[0m\u001b[1;33m(\u001b[0m\u001b[0mx_test\u001b[0m\u001b[1;33m,\u001b[0m \u001b[0my_test\u001b[0m\u001b[1;33m)\u001b[0m\u001b[1;33m,\u001b[0m\u001b[1;33m\u001b[0m\u001b[1;33m\u001b[0m\u001b[0m\n",
      "\u001b[1;32m~\\Anaconda3\\lib\\site-packages\\keras\\utils\\traceback_utils.py\u001b[0m in \u001b[0;36merror_handler\u001b[1;34m(*args, **kwargs)\u001b[0m\n\u001b[0;32m     62\u001b[0m     \u001b[0mfiltered_tb\u001b[0m \u001b[1;33m=\u001b[0m \u001b[1;32mNone\u001b[0m\u001b[1;33m\u001b[0m\u001b[1;33m\u001b[0m\u001b[0m\n\u001b[0;32m     63\u001b[0m     \u001b[1;32mtry\u001b[0m\u001b[1;33m:\u001b[0m\u001b[1;33m\u001b[0m\u001b[1;33m\u001b[0m\u001b[0m\n\u001b[1;32m---> 64\u001b[1;33m       \u001b[1;32mreturn\u001b[0m \u001b[0mfn\u001b[0m\u001b[1;33m(\u001b[0m\u001b[1;33m*\u001b[0m\u001b[0margs\u001b[0m\u001b[1;33m,\u001b[0m \u001b[1;33m**\u001b[0m\u001b[0mkwargs\u001b[0m\u001b[1;33m)\u001b[0m\u001b[1;33m\u001b[0m\u001b[1;33m\u001b[0m\u001b[0m\n\u001b[0m\u001b[0;32m     65\u001b[0m     \u001b[1;32mexcept\u001b[0m \u001b[0mException\u001b[0m \u001b[1;32mas\u001b[0m \u001b[0me\u001b[0m\u001b[1;33m:\u001b[0m  \u001b[1;31m# pylint: disable=broad-except\u001b[0m\u001b[1;33m\u001b[0m\u001b[1;33m\u001b[0m\u001b[0m\n\u001b[0;32m     66\u001b[0m       \u001b[0mfiltered_tb\u001b[0m \u001b[1;33m=\u001b[0m \u001b[0m_process_traceback_frames\u001b[0m\u001b[1;33m(\u001b[0m\u001b[0me\u001b[0m\u001b[1;33m.\u001b[0m\u001b[0m__traceback__\u001b[0m\u001b[1;33m)\u001b[0m\u001b[1;33m\u001b[0m\u001b[1;33m\u001b[0m\u001b[0m\n",
      "\u001b[1;32m~\\Anaconda3\\lib\\site-packages\\keras\\engine\\training.py\u001b[0m in \u001b[0;36mfit\u001b[1;34m(self, x, y, batch_size, epochs, verbose, callbacks, validation_split, validation_data, shuffle, class_weight, sample_weight, initial_epoch, steps_per_epoch, validation_steps, validation_batch_size, validation_freq, max_queue_size, workers, use_multiprocessing)\u001b[0m\n\u001b[0;32m   1214\u001b[0m                 _r=1):\n\u001b[0;32m   1215\u001b[0m               \u001b[0mcallbacks\u001b[0m\u001b[1;33m.\u001b[0m\u001b[0mon_train_batch_begin\u001b[0m\u001b[1;33m(\u001b[0m\u001b[0mstep\u001b[0m\u001b[1;33m)\u001b[0m\u001b[1;33m\u001b[0m\u001b[1;33m\u001b[0m\u001b[0m\n\u001b[1;32m-> 1216\u001b[1;33m               \u001b[0mtmp_logs\u001b[0m \u001b[1;33m=\u001b[0m \u001b[0mself\u001b[0m\u001b[1;33m.\u001b[0m\u001b[0mtrain_function\u001b[0m\u001b[1;33m(\u001b[0m\u001b[0miterator\u001b[0m\u001b[1;33m)\u001b[0m\u001b[1;33m\u001b[0m\u001b[1;33m\u001b[0m\u001b[0m\n\u001b[0m\u001b[0;32m   1217\u001b[0m               \u001b[1;32mif\u001b[0m \u001b[0mdata_handler\u001b[0m\u001b[1;33m.\u001b[0m\u001b[0mshould_sync\u001b[0m\u001b[1;33m:\u001b[0m\u001b[1;33m\u001b[0m\u001b[1;33m\u001b[0m\u001b[0m\n\u001b[0;32m   1218\u001b[0m                 \u001b[0mcontext\u001b[0m\u001b[1;33m.\u001b[0m\u001b[0masync_wait\u001b[0m\u001b[1;33m(\u001b[0m\u001b[1;33m)\u001b[0m\u001b[1;33m\u001b[0m\u001b[1;33m\u001b[0m\u001b[0m\n",
      "\u001b[1;32m~\\AppData\\Roaming\\Python\\Python38\\site-packages\\tensorflow\\python\\util\\traceback_utils.py\u001b[0m in \u001b[0;36merror_handler\u001b[1;34m(*args, **kwargs)\u001b[0m\n\u001b[0;32m    148\u001b[0m     \u001b[0mfiltered_tb\u001b[0m \u001b[1;33m=\u001b[0m \u001b[1;32mNone\u001b[0m\u001b[1;33m\u001b[0m\u001b[1;33m\u001b[0m\u001b[0m\n\u001b[0;32m    149\u001b[0m     \u001b[1;32mtry\u001b[0m\u001b[1;33m:\u001b[0m\u001b[1;33m\u001b[0m\u001b[1;33m\u001b[0m\u001b[0m\n\u001b[1;32m--> 150\u001b[1;33m       \u001b[1;32mreturn\u001b[0m \u001b[0mfn\u001b[0m\u001b[1;33m(\u001b[0m\u001b[1;33m*\u001b[0m\u001b[0margs\u001b[0m\u001b[1;33m,\u001b[0m \u001b[1;33m**\u001b[0m\u001b[0mkwargs\u001b[0m\u001b[1;33m)\u001b[0m\u001b[1;33m\u001b[0m\u001b[1;33m\u001b[0m\u001b[0m\n\u001b[0m\u001b[0;32m    151\u001b[0m     \u001b[1;32mexcept\u001b[0m \u001b[0mException\u001b[0m \u001b[1;32mas\u001b[0m \u001b[0me\u001b[0m\u001b[1;33m:\u001b[0m\u001b[1;33m\u001b[0m\u001b[1;33m\u001b[0m\u001b[0m\n\u001b[0;32m    152\u001b[0m       \u001b[0mfiltered_tb\u001b[0m \u001b[1;33m=\u001b[0m \u001b[0m_process_traceback_frames\u001b[0m\u001b[1;33m(\u001b[0m\u001b[0me\u001b[0m\u001b[1;33m.\u001b[0m\u001b[0m__traceback__\u001b[0m\u001b[1;33m)\u001b[0m\u001b[1;33m\u001b[0m\u001b[1;33m\u001b[0m\u001b[0m\n",
      "\u001b[1;32m~\\AppData\\Roaming\\Python\\Python38\\site-packages\\tensorflow\\python\\eager\\def_function.py\u001b[0m in \u001b[0;36m__call__\u001b[1;34m(self, *args, **kwds)\u001b[0m\n\u001b[0;32m    908\u001b[0m \u001b[1;33m\u001b[0m\u001b[0m\n\u001b[0;32m    909\u001b[0m       \u001b[1;32mwith\u001b[0m \u001b[0mOptionalXlaContext\u001b[0m\u001b[1;33m(\u001b[0m\u001b[0mself\u001b[0m\u001b[1;33m.\u001b[0m\u001b[0m_jit_compile\u001b[0m\u001b[1;33m)\u001b[0m\u001b[1;33m:\u001b[0m\u001b[1;33m\u001b[0m\u001b[1;33m\u001b[0m\u001b[0m\n\u001b[1;32m--> 910\u001b[1;33m         \u001b[0mresult\u001b[0m \u001b[1;33m=\u001b[0m \u001b[0mself\u001b[0m\u001b[1;33m.\u001b[0m\u001b[0m_call\u001b[0m\u001b[1;33m(\u001b[0m\u001b[1;33m*\u001b[0m\u001b[0margs\u001b[0m\u001b[1;33m,\u001b[0m \u001b[1;33m**\u001b[0m\u001b[0mkwds\u001b[0m\u001b[1;33m)\u001b[0m\u001b[1;33m\u001b[0m\u001b[1;33m\u001b[0m\u001b[0m\n\u001b[0m\u001b[0;32m    911\u001b[0m \u001b[1;33m\u001b[0m\u001b[0m\n\u001b[0;32m    912\u001b[0m       \u001b[0mnew_tracing_count\u001b[0m \u001b[1;33m=\u001b[0m \u001b[0mself\u001b[0m\u001b[1;33m.\u001b[0m\u001b[0mexperimental_get_tracing_count\u001b[0m\u001b[1;33m(\u001b[0m\u001b[1;33m)\u001b[0m\u001b[1;33m\u001b[0m\u001b[1;33m\u001b[0m\u001b[0m\n",
      "\u001b[1;32m~\\AppData\\Roaming\\Python\\Python38\\site-packages\\tensorflow\\python\\eager\\def_function.py\u001b[0m in \u001b[0;36m_call\u001b[1;34m(self, *args, **kwds)\u001b[0m\n\u001b[0;32m    940\u001b[0m       \u001b[1;31m# In this case we have created variables on the first call, so we run the\u001b[0m\u001b[1;33m\u001b[0m\u001b[1;33m\u001b[0m\u001b[1;33m\u001b[0m\u001b[0m\n\u001b[0;32m    941\u001b[0m       \u001b[1;31m# defunned version which is guaranteed to never create variables.\u001b[0m\u001b[1;33m\u001b[0m\u001b[1;33m\u001b[0m\u001b[1;33m\u001b[0m\u001b[0m\n\u001b[1;32m--> 942\u001b[1;33m       \u001b[1;32mreturn\u001b[0m \u001b[0mself\u001b[0m\u001b[1;33m.\u001b[0m\u001b[0m_stateless_fn\u001b[0m\u001b[1;33m(\u001b[0m\u001b[1;33m*\u001b[0m\u001b[0margs\u001b[0m\u001b[1;33m,\u001b[0m \u001b[1;33m**\u001b[0m\u001b[0mkwds\u001b[0m\u001b[1;33m)\u001b[0m  \u001b[1;31m# pylint: disable=not-callable\u001b[0m\u001b[1;33m\u001b[0m\u001b[1;33m\u001b[0m\u001b[0m\n\u001b[0m\u001b[0;32m    943\u001b[0m     \u001b[1;32melif\u001b[0m \u001b[0mself\u001b[0m\u001b[1;33m.\u001b[0m\u001b[0m_stateful_fn\u001b[0m \u001b[1;32mis\u001b[0m \u001b[1;32mnot\u001b[0m \u001b[1;32mNone\u001b[0m\u001b[1;33m:\u001b[0m\u001b[1;33m\u001b[0m\u001b[1;33m\u001b[0m\u001b[0m\n\u001b[0;32m    944\u001b[0m       \u001b[1;31m# Release the lock early so that multiple threads can perform the call\u001b[0m\u001b[1;33m\u001b[0m\u001b[1;33m\u001b[0m\u001b[1;33m\u001b[0m\u001b[0m\n",
      "\u001b[1;32m~\\AppData\\Roaming\\Python\\Python38\\site-packages\\tensorflow\\python\\eager\\function.py\u001b[0m in \u001b[0;36m__call__\u001b[1;34m(self, *args, **kwargs)\u001b[0m\n\u001b[0;32m   3128\u001b[0m       (graph_function,\n\u001b[0;32m   3129\u001b[0m        filtered_flat_args) = self._maybe_define_function(args, kwargs)\n\u001b[1;32m-> 3130\u001b[1;33m     return graph_function._call_flat(\n\u001b[0m\u001b[0;32m   3131\u001b[0m         filtered_flat_args, captured_inputs=graph_function.captured_inputs)  # pylint: disable=protected-access\n\u001b[0;32m   3132\u001b[0m \u001b[1;33m\u001b[0m\u001b[0m\n",
      "\u001b[1;32m~\\AppData\\Roaming\\Python\\Python38\\site-packages\\tensorflow\\python\\eager\\function.py\u001b[0m in \u001b[0;36m_call_flat\u001b[1;34m(self, args, captured_inputs, cancellation_manager)\u001b[0m\n\u001b[0;32m   1957\u001b[0m         and executing_eagerly):\n\u001b[0;32m   1958\u001b[0m       \u001b[1;31m# No tape is watching; skip to running the function.\u001b[0m\u001b[1;33m\u001b[0m\u001b[1;33m\u001b[0m\u001b[1;33m\u001b[0m\u001b[0m\n\u001b[1;32m-> 1959\u001b[1;33m       return self._build_call_outputs(self._inference_function.call(\n\u001b[0m\u001b[0;32m   1960\u001b[0m           ctx, args, cancellation_manager=cancellation_manager))\n\u001b[0;32m   1961\u001b[0m     forward_backward = self._select_forward_and_backward_functions(\n",
      "\u001b[1;32m~\\AppData\\Roaming\\Python\\Python38\\site-packages\\tensorflow\\python\\eager\\function.py\u001b[0m in \u001b[0;36mcall\u001b[1;34m(self, ctx, args, cancellation_manager)\u001b[0m\n\u001b[0;32m    596\u001b[0m       \u001b[1;32mwith\u001b[0m \u001b[0m_InterpolateFunctionError\u001b[0m\u001b[1;33m(\u001b[0m\u001b[0mself\u001b[0m\u001b[1;33m)\u001b[0m\u001b[1;33m:\u001b[0m\u001b[1;33m\u001b[0m\u001b[1;33m\u001b[0m\u001b[0m\n\u001b[0;32m    597\u001b[0m         \u001b[1;32mif\u001b[0m \u001b[0mcancellation_manager\u001b[0m \u001b[1;32mis\u001b[0m \u001b[1;32mNone\u001b[0m\u001b[1;33m:\u001b[0m\u001b[1;33m\u001b[0m\u001b[1;33m\u001b[0m\u001b[0m\n\u001b[1;32m--> 598\u001b[1;33m           outputs = execute.execute(\n\u001b[0m\u001b[0;32m    599\u001b[0m               \u001b[0mstr\u001b[0m\u001b[1;33m(\u001b[0m\u001b[0mself\u001b[0m\u001b[1;33m.\u001b[0m\u001b[0msignature\u001b[0m\u001b[1;33m.\u001b[0m\u001b[0mname\u001b[0m\u001b[1;33m)\u001b[0m\u001b[1;33m,\u001b[0m\u001b[1;33m\u001b[0m\u001b[1;33m\u001b[0m\u001b[0m\n\u001b[0;32m    600\u001b[0m               \u001b[0mnum_outputs\u001b[0m\u001b[1;33m=\u001b[0m\u001b[0mself\u001b[0m\u001b[1;33m.\u001b[0m\u001b[0m_num_outputs\u001b[0m\u001b[1;33m,\u001b[0m\u001b[1;33m\u001b[0m\u001b[1;33m\u001b[0m\u001b[0m\n",
      "\u001b[1;32m~\\AppData\\Roaming\\Python\\Python38\\site-packages\\tensorflow\\python\\eager\\execute.py\u001b[0m in \u001b[0;36mquick_execute\u001b[1;34m(op_name, num_outputs, inputs, attrs, ctx, name)\u001b[0m\n\u001b[0;32m     56\u001b[0m   \u001b[1;32mtry\u001b[0m\u001b[1;33m:\u001b[0m\u001b[1;33m\u001b[0m\u001b[1;33m\u001b[0m\u001b[0m\n\u001b[0;32m     57\u001b[0m     \u001b[0mctx\u001b[0m\u001b[1;33m.\u001b[0m\u001b[0mensure_initialized\u001b[0m\u001b[1;33m(\u001b[0m\u001b[1;33m)\u001b[0m\u001b[1;33m\u001b[0m\u001b[1;33m\u001b[0m\u001b[0m\n\u001b[1;32m---> 58\u001b[1;33m     tensors = pywrap_tfe.TFE_Py_Execute(ctx._handle, device_name, op_name,\n\u001b[0m\u001b[0;32m     59\u001b[0m                                         inputs, attrs, num_outputs)\n\u001b[0;32m     60\u001b[0m   \u001b[1;32mexcept\u001b[0m \u001b[0mcore\u001b[0m\u001b[1;33m.\u001b[0m\u001b[0m_NotOkStatusException\u001b[0m \u001b[1;32mas\u001b[0m \u001b[0me\u001b[0m\u001b[1;33m:\u001b[0m\u001b[1;33m\u001b[0m\u001b[1;33m\u001b[0m\u001b[0m\n",
      "\u001b[1;31mKeyboardInterrupt\u001b[0m: "
     ]
    }
   ],
   "source": [
    "model2.compile(optimizer=optimizer, loss=loss, metrics=['accuracy'])\n",
    "\n",
    "history2 = model2.fit(x_train, y_train,\n",
    "          epochs=epochs,\n",
    "          validation_data=(x_test, y_test),\n",
    "          batch_size=batch_size,\n",
    "          verbose=1)"
   ]
  },
  {
   "cell_type": "code",
   "execution_count": 107,
   "id": "8df3a552",
   "metadata": {},
   "outputs": [
    {
     "name": "stdout",
     "output_type": "stream",
     "text": [
      "DP-SGD with sampling rate = 0.417% and noise_multiplier = 1.3 iterated over 2400 steps satisfies differential privacy with eps = 0.789 and delta = 1e-05.\n",
      "The optimal RDP order is 17.0.\n"
     ]
    },
    {
     "data": {
      "text/plain": [
       "(0.7887526073553888, 17.0)"
      ]
     },
     "execution_count": 107,
     "metadata": {},
     "output_type": "execute_result"
    }
   ],
   "source": [
    "compute_dp_sgd_privacy.compute_dp_sgd_privacy(n=x_train.shape[0],\n",
    "                                              batch_size=batch_size,\n",
    "                                              noise_multiplier=noise_multiplier,\n",
    "                                              epochs=epochs,\n",
    "                                              delta=1e-5)"
   ]
  },
  {
   "cell_type": "code",
   "execution_count": 108,
   "id": "2f6aa5fb",
   "metadata": {},
   "outputs": [
    {
     "data": {
      "text/plain": [
       "{'loss': [0.37263023853302,\n",
       "  0.46533334255218506,\n",
       "  0.5629138946533203,\n",
       "  0.6428921222686768,\n",
       "  0.7138441801071167,\n",
       "  0.7793915867805481,\n",
       "  0.9077559113502502,\n",
       "  0.9801548719406128,\n",
       "  1.033383846282959,\n",
       "  1.0252512693405151],\n",
       " 'accuracy': [0.9569000005722046,\n",
       "  0.9524000287055969,\n",
       "  0.9503499865531921,\n",
       "  0.9452499747276306,\n",
       "  0.9432500004768372,\n",
       "  0.9423499703407288,\n",
       "  0.9384833574295044,\n",
       "  0.9358166456222534,\n",
       "  0.9336333274841309,\n",
       "  0.932533323764801],\n",
       " 'val_loss': [0.6581244468688965,\n",
       "  0.8022482991218567,\n",
       "  0.8690364956855774,\n",
       "  0.9882220029830933,\n",
       "  1.0727137327194214,\n",
       "  1.0590698719024658,\n",
       "  1.1159884929656982,\n",
       "  1.182756781578064,\n",
       "  1.2651665210723877,\n",
       "  1.321194052696228],\n",
       " 'val_accuracy': [0.9460999965667725,\n",
       "  0.9405999779701233,\n",
       "  0.9404000043869019,\n",
       "  0.9305999875068665,\n",
       "  0.934499979019165,\n",
       "  0.9354000091552734,\n",
       "  0.9326000213623047,\n",
       "  0.932699978351593,\n",
       "  0.9309999942779541,\n",
       "  0.927299976348877]}"
      ]
     },
     "execution_count": 108,
     "metadata": {},
     "output_type": "execute_result"
    }
   ],
   "source": [
    "history2.history"
   ]
  }
 ],
 "metadata": {
  "kernelspec": {
   "display_name": "Python 3",
   "language": "python",
   "name": "python3"
  },
  "language_info": {
   "codemirror_mode": {
    "name": "ipython",
    "version": 3
   },
   "file_extension": ".py",
   "mimetype": "text/x-python",
   "name": "python",
   "nbconvert_exporter": "python",
   "pygments_lexer": "ipython3",
   "version": "3.8.8"
  }
 },
 "nbformat": 4,
 "nbformat_minor": 5
}
